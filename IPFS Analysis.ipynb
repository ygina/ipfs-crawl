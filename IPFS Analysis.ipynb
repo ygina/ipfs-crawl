{
 "cells": [
  {
   "cell_type": "code",
   "execution_count": 89,
   "metadata": {},
   "outputs": [],
   "source": [
    "import magic\n",
    "import subprocess\n",
    "import ipfsapi\n",
    "import re\n",
    "import matplotlib.pyplot as plt\n",
    "from enum import Enum\n",
    "from tempfile import NamedTemporaryFile\n",
    "from textblob import TextBlob\n",
    "from typing import List, Optional\n",
    "\n",
    "api = ipfsapi.connect('127.0.0.1', 5001)\n",
    "\n",
    "class IPFSHashType(Enum):\n",
    "    DATA = 0\n",
    "    DIR = 1\n",
    "    ERR = 2\n",
    "\n",
    "class WikiType(Enum):\n",
    "    HTMLPAGE = 0\n",
    "    CRAWLED = 1\n",
    "    NONE = 2\n",
    "\n",
    "class Source(Enum):\n",
    "    DHT = 0\n",
    "    WEB = 1\n"
   ]
  },
  {
   "cell_type": "code",
   "execution_count": 90,
   "metadata": {},
   "outputs": [],
   "source": [
    "wiki_hashes = set()\n",
    "\n",
    "with open(\"ls_results.txt\", \"r\") as f:\n",
    "    for wiki_hash in f.read().split():\n",
    "        wiki_hashes.add(wiki_hash)"
   ]
  },
  {
   "cell_type": "code",
   "execution_count": 91,
   "metadata": {},
   "outputs": [],
   "source": [
    "done_hashes = {}"
   ]
  },
  {
   "cell_type": "code",
   "execution_count": 106,
   "metadata": {},
   "outputs": [],
   "source": [
    "class FileHash:\n",
    "    ipfs_hash: str\n",
    "    root: bool = False\n",
    "    hash_type: IPFSHashType = IPFSHashType.DATA\n",
    "    refs = []\n",
    "    source: Source\n",
    "    file_type: str = ''\n",
    "    wiki: WikiType = WikiType.NONE\n",
    "    language_code: Optional[str] = None\n",
    "    \n",
    "    def __init__(self, ipfs_hash: str, source: Source, root: bool = False):\n",
    "        self.ipfs_hash = ipfs_hash\n",
    "        self.root = root\n",
    "        self.source = source\n",
    "        \n",
    "        if ipfs_hash in done_hashes:\n",
    "            return\n",
    "\n",
    "        done_hashes[ipfs_hash] = None\n",
    "        self.readline()\n",
    "        done_hashes[ipfs_hash] = self\n",
    "\n",
    "    def __str__(self) -> str:\n",
    "        return '{} {} {}'.format(self.ipfs_hash, self.hash_type, self.file_type)\n",
    "\n",
    "    def readline(self) -> None:\n",
    "        try:\n",
    "            line = api.cat(self.ipfs_hash)\n",
    "            self.set_file_type(line)\n",
    "            self.set_wikipedia(line)\n",
    "        except ipfsapi.exceptions.Error as e:\n",
    "            self.hash_type = IPFSHashType.DIR\n",
    "            self.add_refs()\n",
    "    \n",
    "    def add_refs(self):\n",
    "        res = api.ls(self.ipfs_hash)['Objects'][0]['Links']\n",
    "        res = map(lambda link: link['Hash'], res)\n",
    "        for h in res:\n",
    "            self.refs.append(FileHash(h, self.source, root = False))\n",
    "        \n",
    "    def set_file_type(self, line: bytes):\n",
    "        if self.hash_type != IPFSHashType.DATA:\n",
    "            raise Exception('cannot get file type of non-file')\n",
    "        f = NamedTemporaryFile()\n",
    "        f.write(line)\n",
    "        f.seek(0)\n",
    "        self.file_type = magic.from_file(f.name);\n",
    "\n",
    "    def set_wikipedia(self, line: bytes):\n",
    "        if b'mediawiki' in line:\n",
    "            self.wiki = WikiType.HTMLPAGE\n",
    "            regex = r'.*(<p id=.*</p>).*'\n",
    "            match = re.match(regex, str(line))\n",
    "            self.language_code = TextBlob(match.groups()[0]).detect_language()\n",
    "        elif self.ipfs_hash in wiki_hashes:\n",
    "            self.wiki = WikiType.CRAWLED\n",
    "        "
   ]
  },
  {
   "cell_type": "code",
   "execution_count": 107,
   "metadata": {},
   "outputs": [],
   "source": [
    "def analyze(source: Source, hashes: List[str]) -> None:\n",
    "    for h in hashes:\n",
    "        FileHash(h, source = source, root = True)"
   ]
  },
  {
   "cell_type": "code",
   "execution_count": null,
   "metadata": {},
   "outputs": [],
   "source": [
    "hashes = []\n",
    "with open(\"index_results.txt\", \"r\") as f:\n",
    "    for line in f.read().split('\\n'):\n",
    "        if line == '':\n",
    "            continue\n",
    "        if line[0] == ' ':  # only accept root hashes\n",
    "            continue\n",
    "        file_hash = line.split()[-1]\n",
    "        hashes.append(file_hash)\n",
    "\n",
    "analyze(Source.DHT, hashes)\n",
    "for h in done_hashes:\n",
    "    fh = done_hashes[h]\n",
    "    print(fh)"
   ]
  },
  {
   "cell_type": "code",
   "execution_count": 71,
   "metadata": {},
   "outputs": [],
   "source": []
  },
  {
   "cell_type": "code",
   "execution_count": 64,
   "metadata": {},
   "outputs": [
    {
     "name": "stdout",
     "output_type": "stream",
     "text": [
      "QmdXunjg8mhwS9j71Hc4aaUCuh3rBHmjx2RsEZXCgBghS3 IPFSHashType.DIR  WikiType.NONE None\n",
      "zb2rhbmdu1EAoLc1D7gQsrPoouH6wT6LhhPwgarGWzWSRbifZ IPFSHashType.DATA HTML document, UTF-8 Unicode text, with very long lines WikiType.HTMLPAGE en\n",
      "zb2rhYPXSZPNWEXrULeKynz8udHSJ6MvNdFh1fXZFcC2AzQiH IPFSHashType.DATA HTML document, UTF-8 Unicode text, with very long lines WikiType.HTMLPAGE tr\n",
      "zb2rhYsHu5LBbrVN1ivxqKiE1GAZHbeyUapp47eXDFvkMXPMa IPFSHashType.DATA HTML document, UTF-8 Unicode text, with very long lines WikiType.HTMLPAGE tr\n",
      "zb2rhgQmffmc7qiXVrMGdMLrVRcsYtd5B3seNUchMd7t3SeZJ IPFSHashType.DATA HTML document, UTF-8 Unicode text, with very long lines WikiType.HTMLPAGE tr\n",
      "zb2rheTqcxpnDwpcoHP1h5PzU23n3B6tX6RMvkxHLjE3XtJsB IPFSHashType.DATA HTML document, UTF-8 Unicode text, with very long lines WikiType.HTMLPAGE en\n",
      "zb2rhhxkUm98WpJf9r645fThqsBzGziNy5bpbEMFXhmx1zhPg IPFSHashType.DATA HTML document, UTF-8 Unicode text, with very long lines WikiType.HTMLPAGE en\n",
      "zb2rhnVhvdq3rtDfkNidEQ9Y4aSNFbxhF2EAKtRwiUMMzkLdS IPFSHashType.DATA HTML document, UTF-8 Unicode text, with very long lines WikiType.HTMLPAGE en\n"
     ]
    }
   ],
   "source": []
  },
  {
   "cell_type": "code",
   "execution_count": null,
   "metadata": {},
   "outputs": [],
   "source": []
  },
  {
   "cell_type": "code",
   "execution_count": null,
   "metadata": {},
   "outputs": [],
   "source": []
  }
 ],
 "metadata": {
  "kernelspec": {
   "display_name": "Python 3",
   "language": "python",
   "name": "python3"
  },
  "language_info": {
   "codemirror_mode": {
    "name": "ipython",
    "version": 3
   },
   "file_extension": ".py",
   "mimetype": "text/x-python",
   "name": "python",
   "nbconvert_exporter": "python",
   "pygments_lexer": "ipython3",
   "version": "3.6.3"
  }
 },
 "nbformat": 4,
 "nbformat_minor": 2
}
